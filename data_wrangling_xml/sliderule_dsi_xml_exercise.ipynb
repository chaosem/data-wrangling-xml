{
 "cells": [
  {
   "cell_type": "markdown",
   "metadata": {},
   "source": [
    "# XML example and exercise\n",
    "****\n",
    "+ study examples of accessing nodes in XML tree structure  \n",
    "+ work on exercise to be completed and submitted\n",
    "****\n",
    "+ reference: https://docs.python.org/2.7/library/xml.etree.elementtree.html\n",
    "+ data source: http://www.dbis.informatik.uni-goettingen.de/Mondial\n",
    "****"
   ]
  },
  {
   "cell_type": "code",
   "execution_count": 3,
   "metadata": {
    "collapsed": true
   },
   "outputs": [],
   "source": [
    "from xml.etree import ElementTree as ET"
   ]
  },
  {
   "cell_type": "markdown",
   "metadata": {},
   "source": [
    "## XML example\n",
    "\n",
    "+ for details about tree traversal and iterators, see https://docs.python.org/2.7/library/xml.etree.elementtree.html"
   ]
  },
  {
   "cell_type": "code",
   "execution_count": 4,
   "metadata": {
    "collapsed": false
   },
   "outputs": [
    {
     "data": {
      "text/plain": [
       "<xml.etree.ElementTree.ElementTree at 0x14f69595748>"
      ]
     },
     "execution_count": 4,
     "metadata": {},
     "output_type": "execute_result"
    }
   ],
   "source": [
    "document_tree = ET.parse( './data/mondial_database_less.xml' )"
   ]
  },
  {
   "cell_type": "code",
   "execution_count": 9,
   "metadata": {
    "collapsed": false
   },
   "outputs": [
    {
     "name": "stdout",
     "output_type": "stream",
     "text": [
      "Albania\n",
      "Greece\n",
      "Macedonia\n",
      "Serbia\n",
      "Montenegro\n",
      "Kosovo\n",
      "Andorra\n"
     ]
    }
   ],
   "source": [
    "# print names of all countries\n",
    "for child in document_tree.getroot():\n",
    "    print(child.find('name').text)"
   ]
  },
  {
   "cell_type": "code",
   "execution_count": 14,
   "metadata": {
    "collapsed": false
   },
   "outputs": [
    {
     "name": "stdout",
     "output_type": "stream",
     "text": [
      "* Albania:\n",
      "Tirana, Shkodër, Durrës, Vlorë, Elbasan, Korçë\n",
      "* Greece:\n",
      "Komotini, Kavala, Athina, Peiraias, Peristeri, Acharnes, Patra, Kozani, Kerkyra, Ioannina, Thessaloniki, Iraklio, Chania, Ermoupoli, Rhodes, Tripoli, Lamia, Chalkida, Larissa, Volos, Mytilini, Karyes\n",
      "* Macedonia:\n",
      "Skopje, Kumanovo\n",
      "* Serbia:\n",
      "Beograd, Novi Sad, Niš\n",
      "* Montenegro:\n",
      "Podgorica\n",
      "* Kosovo:\n",
      "Prishtine\n",
      "* Andorra:\n",
      "Andorra la Vella\n"
     ]
    }
   ],
   "source": [
    "# print names of all countries and their cities\n",
    "for element in document_tree.iterfind('country'):\n",
    "    print('* ' + element.find('name').text + ':'),\n",
    "    capitals_string = ''\n",
    "    for subelement in element.getiterator('city'):\n",
    "        capitals_string += subelement.find('name').text + ', '\n",
    "    print(capitals_string[:-2])"
   ]
  },
  {
   "cell_type": "markdown",
   "metadata": {},
   "source": [
    "****\n",
    "## XML exercise\n",
    "\n",
    "Using data in 'data/mondial_database.xml', the examples above, and refering to https://docs.python.org/2.7/library/xml.etree.elementtree.html, find\n",
    "\n",
    "1. 10 countries with the lowest infant mortality rates\n",
    "2. 10 cities with the largest population\n",
    "3. 10 ethnic groups with the largest overall populations (sum of best/latest estimates over all countries)\n",
    "4. name and country of a) longest river, b) largest lake and c) airport at highest elevation"
   ]
  },
  {
   "cell_type": "code",
   "execution_count": 4,
   "metadata": {
    "collapsed": false,
    "scrolled": true
   },
   "outputs": [
    {
     "data": {
      "text/plain": [
       "[('Monaco', 1.81),\n",
       " ('Japan', 2.13),\n",
       " ('Bermuda', 2.48),\n",
       " ('Norway', 2.48),\n",
       " ('Singapore', 2.53),\n",
       " ('Sweden', 2.6),\n",
       " ('Czech Republic', 2.63),\n",
       " ('Hong Kong', 2.73),\n",
       " ('Macao', 3.13),\n",
       " ('Iceland', 3.15)]"
      ]
     },
     "execution_count": 4,
     "metadata": {},
     "output_type": "execute_result"
    }
   ],
   "source": [
    "# 10 countries with the lowest infant mortality rates\n",
    "\n",
    "import operator\n",
    "\n",
    "document = ET.parse( './data/mondial_database.xml' )\n",
    "d = {}\n",
    "for element in document.iterfind('country'):\n",
    "    if element.find('infant_mortality') is None:\n",
    "        pass\n",
    "    else:\n",
    "        country = element.find('name').text\n",
    "        im = element.find('infant_mortality').text\n",
    "        d[country] = float(im)\n",
    "sorted_d = sorted(d.items(), key=operator.itemgetter(1))\n",
    "sorted_d[:10]"
   ]
  },
  {
   "cell_type": "code",
   "execution_count": 89,
   "metadata": {
    "collapsed": false
   },
   "outputs": [
    {
     "data": {
      "text/plain": [
       "[('Sydney', 4605992),\n",
       " ('Chennai', 4646732),\n",
       " ('Luanda', 5000000),\n",
       " ('Ahmadabad', 5577940),\n",
       " ('Hyderabad', 6731790),\n",
       " ('Dhaka', 7423137),\n",
       " ('Tehran', 8154051),\n",
       " ('Bangalore', 8443675),\n",
       " ('Delhi', 11034555),\n",
       " ('Mumbai', 12442373)]"
      ]
     },
     "execution_count": 89,
     "metadata": {},
     "output_type": "execute_result"
    }
   ],
   "source": [
    "# 10 cities with the largest population\n",
    "\n",
    "largePop = {}\n",
    "for element in document.iter('city'):\n",
    "    if element.find('population[@year=\"2011\"]') is None:\n",
    "        pass\n",
    "    else:\n",
    "        pop = element.find('population[@year=\"2011\"]').text\n",
    "        city = element.find('name').text\n",
    "        largePop[city] = int(pop)\n",
    "sorted_largePop = sorted(largePop.items(), key=operator.itemgetter(1))\n",
    "sorted_largePop[-10:]"
   ]
  },
  {
   "cell_type": "code",
   "execution_count": 51,
   "metadata": {
    "collapsed": false
   },
   "outputs": [
    {
     "data": {
      "text/plain": [
       "[('Mediterranean Nordic', 4681591600),\n",
       " ('English', 5359232674),\n",
       " ('Turkish', 6393539043),\n",
       " ('Viet/Kinh', 7607837530),\n",
       " ('Javanese', 11345600610),\n",
       " ('Russian', 11464621093),\n",
       " ('Japanese', 12653421200),\n",
       " ('Bengali', 14677691672),\n",
       " ('Dravidian', 30271374425),\n",
       " ('Han Chinese', 124505880000)]"
      ]
     },
     "execution_count": 51,
     "metadata": {},
     "output_type": "execute_result"
    }
   ],
   "source": [
    "# 10 ethnic groups with the largest overall populations (sum of best/latest estimates over all countries)\n",
    "eg = {}\n",
    "for element in document.iter('country'):\n",
    "    if element.find('ethnicgroup') is None:\n",
    "        pass\n",
    "    else:\n",
    "        egName = element.find('ethnicgroup[1]').text\n",
    "        egPercentage = element.find('ethnicgroup[1]').get('percentage')\n",
    "        pop = element.find('population[last()]').text\n",
    "        egPop = float(egPercentage) * float(pop)\n",
    "        eg[egName] = int(egPop)\n",
    "sorted_eg = sorted(eg.items(), key=operator.itemgetter(1))\n",
    "sorted_eg[-10:]"
   ]
  },
  {
   "cell_type": "code",
   "execution_count": 58,
   "metadata": {
    "collapsed": false
   },
   "outputs": [
    {
     "name": "stdout",
     "output_type": "stream",
     "text": [
      "Amazonas 6448.0 CO BR PE\n"
     ]
    }
   ],
   "source": [
    "# Name and country of a) longest river, b) largest lake and c) airport at highest elevation\n",
    "longest = 0\n",
    "longest_river_name = ''\n",
    "country = ''\n",
    "for element in document.iter('river'):\n",
    "    if element.find('length') is None:\n",
    "        pass\n",
    "    else:\n",
    "        length = float(element.find('length').text)\n",
    "        if length > longest:\n",
    "            longest = length\n",
    "            longest_river_name = element.find('name').text\n",
    "            country = element.get('country')\n",
    "print(longest_river_name + ' ' + str(longest) + ' ' + country)"
   ]
  },
  {
   "cell_type": "code",
   "execution_count": 62,
   "metadata": {
    "collapsed": false
   },
   "outputs": [
    {
     "name": "stdout",
     "output_type": "stream",
     "text": [
      "Caspian Sea 386400.0 R AZ KAZ IR TM\n"
     ]
    }
   ],
   "source": [
    "# Largest Lake\n",
    "\n",
    "largest = 0\n",
    "largest_lake_name = ' '\n",
    "country = ' '\n",
    "\n",
    "for element in document.iter('lake'):\n",
    "    if element.find('area') is None:\n",
    "        pass\n",
    "    else:\n",
    "        area = float(element.find('area').text)\n",
    "        if area > largest:\n",
    "            largest = area\n",
    "            largest_lake_name = element.find('name').text\n",
    "            country = element.get('country')\n",
    "print(largest_lake_name + ' ' + str(largest) + ' ' + country)            "
   ]
  },
  {
   "cell_type": "code",
   "execution_count": 70,
   "metadata": {
    "collapsed": false
   },
   "outputs": [
    {
     "name": "stdout",
     "output_type": "stream",
     "text": [
      "El Alto Intl 4063.0 BOL\n"
     ]
    }
   ],
   "source": [
    "# airport at highest elevation\n",
    "\n",
    "highest = 0\n",
    "highest_airport_name = ''\n",
    "country = ''\n",
    "\n",
    "for element in document.iter('airport'):\n",
    "    if element.find('elevation').text is None:\n",
    "        pass\n",
    "    else:\n",
    "        elevation = float(element.find('elevation').text)\n",
    "        if elevation > highest:\n",
    "            highest = elevation\n",
    "            highest_airport_name = element.find('name').text\n",
    "            country = element.get('country')\n",
    "print(highest_airport_name + ' ' + str(highest) + ' ' + country)            "
   ]
  },
  {
   "cell_type": "code",
   "execution_count": null,
   "metadata": {
    "collapsed": true
   },
   "outputs": [],
   "source": []
  },
  {
   "cell_type": "code",
   "execution_count": null,
   "metadata": {
    "collapsed": true
   },
   "outputs": [],
   "source": []
  },
  {
   "cell_type": "code",
   "execution_count": null,
   "metadata": {
    "collapsed": true
   },
   "outputs": [],
   "source": []
  },
  {
   "cell_type": "code",
   "execution_count": null,
   "metadata": {
    "collapsed": true
   },
   "outputs": [],
   "source": []
  },
  {
   "cell_type": "code",
   "execution_count": null,
   "metadata": {
    "collapsed": true
   },
   "outputs": [],
   "source": []
  },
  {
   "cell_type": "code",
   "execution_count": null,
   "metadata": {
    "collapsed": true
   },
   "outputs": [],
   "source": []
  },
  {
   "cell_type": "code",
   "execution_count": null,
   "metadata": {
    "collapsed": true
   },
   "outputs": [],
   "source": []
  },
  {
   "cell_type": "code",
   "execution_count": null,
   "metadata": {
    "collapsed": true
   },
   "outputs": [],
   "source": []
  }
 ],
 "metadata": {
  "anaconda-cloud": {},
  "kernelspec": {
   "display_name": "Python [default]",
   "language": "python",
   "name": "python3"
  },
  "language_info": {
   "codemirror_mode": {
    "name": "ipython",
    "version": 3
   },
   "file_extension": ".py",
   "mimetype": "text/x-python",
   "name": "python",
   "nbconvert_exporter": "python",
   "pygments_lexer": "ipython3",
   "version": "3.5.2"
  }
 },
 "nbformat": 4,
 "nbformat_minor": 0
}
